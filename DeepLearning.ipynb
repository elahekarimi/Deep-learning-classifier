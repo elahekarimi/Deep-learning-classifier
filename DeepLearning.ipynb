{
  "cells": [
    {
      "cell_type": "markdown",
      "metadata": {
        "id": "view-in-github",
        "colab_type": "text"
      },
      "source": [
        "<a href=\"https://colab.research.google.com/github/elahekarimi/Deep-learning-classifier/blob/main/DeepLearning.ipynb\" target=\"_parent\"><img src=\"https://colab.research.google.com/assets/colab-badge.svg\" alt=\"Open In Colab\"/></a>"
      ]
    },
    {
      "cell_type": "code",
      "execution_count": null,
      "metadata": {
        "colab": {
          "background_save": true,
          "base_uri": "https://localhost:8080/"
        },
        "id": "cVQGbCv6BmhT",
        "outputId": "a7090547-01c0-40bf-d1ba-f9f62c3408b1"
      },
      "outputs": [
        {
          "name": "stdout",
          "output_type": "stream",
          "text": [
            "Downloading data from https://storage.googleapis.com/tensorflow/tf-keras-datasets/train-labels-idx1-ubyte.gz\n",
            "29515/29515 [==============================] - 0s 0us/step\n",
            "Downloading data from https://storage.googleapis.com/tensorflow/tf-keras-datasets/train-images-idx3-ubyte.gz\n",
            "26421880/26421880 [==============================] - 0s 0us/step\n",
            "Downloading data from https://storage.googleapis.com/tensorflow/tf-keras-datasets/t10k-labels-idx1-ubyte.gz\n",
            "5148/5148 [==============================] - 0s 0us/step\n",
            "Downloading data from https://storage.googleapis.com/tensorflow/tf-keras-datasets/t10k-images-idx3-ubyte.gz\n",
            "4422102/4422102 [==============================] - 0s 0us/step\n"
          ]
        }
      ],
      "source": [
        "import tensorflow as tf\n",
        "from tensorflow import keras\n",
        "import numpy as np\n",
        "import matplotlib.pyplot as plt\n",
        "fashion = keras.datasets.fashion_mnist\n",
        "(x_train, y_train), (x_test, y_test) = fashion.load_data()"
      ]
    },
    {
      "cell_type": "code",
      "execution_count": 23,
      "metadata": {
        "colab": {
          "base_uri": "https://localhost:8080/",
          "height": 465
        },
        "id": "svWhxNHLC0OW",
        "outputId": "ec9d2ab2-f8d8-486d-f95e-024c1e581692"
      },
      "outputs": [
        {
          "output_type": "stream",
          "name": "stdout",
          "text": [
            "Image Label : 4\n"
          ]
        },
        {
          "output_type": "execute_result",
          "data": {
            "text/plain": [
              "<matplotlib.image.AxesImage at 0x7dd29343a560>"
            ]
          },
          "metadata": {},
          "execution_count": 23
        },
        {
          "output_type": "display_data",
          "data": {
            "text/plain": [
              "<Figure size 640x480 with 1 Axes>"
            ],
            "image/png": "[encoded data removed]"
          },
          "metadata": {}
        }
      ],
      "source": [
        "imgIndex = 9\n",
        "image = x_train[imgIndex]\n",
        "print(\"Image Label :\",y_train[imgIndex])\n",
        "plt.imshow(image)"
      ]
    },
    {
      "cell_type": "code",
      "execution_count": null,
      "metadata": {
        "colab": {
          "background_save": true,
          "base_uri": "https://localhost:8080/"
        },
        "id": "HYinL2UZUl8-",
        "outputId": "2cdb795c-f19a-4977-e035-2bd62aed57da"
      },
      "outputs": [
        {
          "name": "stdout",
          "output_type": "stream",
          "text": [
            "(60000, 28, 28)\n",
            "(10000, 28, 28)\n"
          ]
        }
      ],
      "source": [
        "print(x_train.shape)\n",
        "print(x_test.shape)"
      ]
    },
    {
      "cell_type": "code",
      "execution_count": null,
      "metadata": {
        "colab": {
          "background_save": true
        },
        "id": "HXE6s8V8YfFL"
      },
      "outputs": [],
      "source": [
        "model = keras.models.Sequential([\n",
        "    keras.layers.Flatten(input_shape=[28,28]),\n",
        "    keras.layers.Dense(300, activation=\"relu\"),\n",
        "    keras.layers.Dense(200, activation=\"relu\"),  # Added layer with more neurons\n",
        "    keras.layers.Dense(100, activation=\"relu\"),\n",
        "    keras.layers.Dense(10, activation=\"softmax\")\n",
        "])"
      ]
    },
    {
      "cell_type": "code",
      "execution_count": null,
      "metadata": {
        "colab": {
          "background_save": true
        },
        "id": "r7vN-mQg74GB"
      },
      "outputs": [],
      "source": [
        "x_valid, x_train = x_train[:5000]/255.0, x_train[5000:]/255.0\n",
        "y_valid, y_train = y_train[:5000], y_train[5000:]\n"
      ]
    },
    {
      "cell_type": "markdown",
      "metadata": {
        "id": "xhXXF9j-B9Jq"
      },
      "source": []
    },
    {
      "cell_type": "code",
      "execution_count": 14,
      "metadata": {
        "colab": {
          "base_uri": "https://localhost:8080/"
        },
        "id": "0Zw1MD7T9BUH",
        "outputId": "7f4894a2-e1aa-4bbe-8c5d-390af269b6a8"
      },
      "outputs": [
        {
          "metadata": {
            "tags": null
          },
          "name": "stdout",
          "output_type": "stream",
          "text": [
            "Epoch 1/14\n",
            "1719/1719 [==============================] - 11s 6ms/step - loss: 0.1138 - accuracy: 0.9575 - val_loss: 0.5956 - val_accuracy: 0.8996\n",
            "Epoch 2/14\n",
            "1719/1719 [==============================] - 11s 6ms/step - loss: 0.1053 - accuracy: 0.9602 - val_loss: 0.5966 - val_accuracy: 0.8946\n",
            "Epoch 3/14\n",
            "1719/1719 [==============================] - 11s 6ms/step - loss: 0.1077 - accuracy: 0.9593 - val_loss: 0.6050 - val_accuracy: 0.8984\n",
            "Epoch 4/14\n",
            "1719/1719 [==============================] - 11s 6ms/step - loss: 0.1034 - accuracy: 0.9605 - val_loss: 0.5821 - val_accuracy: 0.9000\n",
            "Epoch 5/14\n",
            "1719/1719 [==============================] - 11s 6ms/step - loss: 0.1002 - accuracy: 0.9619 - val_loss: 0.6494 - val_accuracy: 0.8962\n",
            "Epoch 6/14\n",
            "1719/1719 [==============================] - 11s 7ms/step - loss: 0.1004 - accuracy: 0.9613 - val_loss: 0.5833 - val_accuracy: 0.8970\n",
            "Epoch 7/14\n",
            "1719/1719 [==============================] - 11s 6ms/step - loss: 0.0936 - accuracy: 0.9629 - val_loss: 0.6292 - val_accuracy: 0.9004\n",
            "Epoch 8/14\n",
            "1719/1719 [==============================] - 11s 6ms/step - loss: 0.0985 - accuracy: 0.9621 - val_loss: 0.6147 - val_accuracy: 0.8944\n",
            "Epoch 9/14\n",
            "1719/1719 [==============================] - 11s 6ms/step - loss: 0.0910 - accuracy: 0.9661 - val_loss: 0.7288 - val_accuracy: 0.9006\n",
            "Epoch 10/14\n",
            "1719/1719 [==============================] - 11s 6ms/step - loss: 0.0952 - accuracy: 0.9641 - val_loss: 0.7618 - val_accuracy: 0.8920\n",
            "Epoch 11/14\n",
            "1719/1719 [==============================] - 11s 7ms/step - loss: 0.0882 - accuracy: 0.9667 - val_loss: 0.6858 - val_accuracy: 0.9002\n",
            "Epoch 12/14\n",
            "1719/1719 [==============================] - 11s 6ms/step - loss: 0.0907 - accuracy: 0.9663 - val_loss: 0.7049 - val_accuracy: 0.8974\n",
            "Epoch 13/14\n",
            "1719/1719 [==============================] - 11s 6ms/step - loss: 0.0841 - accuracy: 0.9673 - val_loss: 0.7300 - val_accuracy: 0.8986\n",
            "Epoch 14/14\n",
            "1719/1719 [==============================] - 11s 7ms/step - loss: 0.0868 - accuracy: 0.9679 - val_loss: 0.6405 - val_accuracy: 0.9006\n"
          ]
        }
      ],
      "source": [
        "model.compile(loss=\"sparse_categorical_crossentropy\",\n",
        "              optimizer=keras.optimizers.Adam(learning_rate=0.001),  # Adjust the learning rate as needed\n",
        "              metrics=[\"accuracy\"])\n",
        "\n",
        "history = model.fit(x_train, y_train, epochs=14, validation_data=(x_valid, y_valid))"
      ]
    },
    {
      "cell_type": "code",
      "execution_count": 16,
      "metadata": {
        "colab": {
          "base_uri": "https://localhost:8080/"
        },
        "id": "6AGTOSip-BuC",
        "outputId": "85a8f8ca-6b5e-4bb4-a889-10e463228092"
      },
      "outputs": [
        {
          "output_type": "stream",
          "name": "stdout",
          "text": [
            "1/1 [==============================] - 0s 30ms/step\n",
            "[[0.         0.         0.         0.         0.         0.\n",
            "  0.         0.         0.         0.99999994]\n",
            " [0.         0.         0.99999994 0.         0.         0.\n",
            "  0.         0.         0.         0.        ]\n",
            " [0.         0.99999994 0.         0.         0.         0.\n",
            "  0.         0.         0.         0.        ]\n",
            " [0.         0.99999994 0.         0.         0.         0.\n",
            "  0.         0.         0.         0.        ]\n",
            " [0.         0.         0.         0.         0.         0.\n",
            "  0.99999994 0.         0.         0.        ]\n",
            " [0.         0.99999994 0.         0.         0.         0.\n",
            "  0.         0.         0.         0.        ]\n",
            " [0.         0.         0.         0.         0.99999994 0.\n",
            "  0.         0.         0.         0.        ]\n",
            " [0.         0.         0.         0.         0.99999994 0.\n",
            "  0.         0.         0.         0.        ]\n",
            " [0.         0.         0.         0.         0.         1.\n",
            "  0.         0.         0.         0.        ]\n",
            " [0.         0.         0.         0.         0.         0.\n",
            "  0.         1.         0.         0.        ]]\n"
          ]
        }
      ],
      "source": [
        "new = x_test[:10]\n",
        "prediction = model.predict(new)\n",
        "print(prediction)"
      ]
    },
    {
      "cell_type": "code",
      "execution_count": 17,
      "metadata": {
        "colab": {
          "base_uri": "https://localhost:8080/"
        },
        "id": "DiaFGbzV_C7v",
        "outputId": "f972c15c-9c4a-48b9-d399-7daedda4cc1f"
      },
      "outputs": [
        {
          "output_type": "stream",
          "name": "stdout",
          "text": [
            "[9 2 1 1 6 1 4 4 5 7]\n"
          ]
        }
      ],
      "source": [
        "classes = np.argmax(prediction, axis=1)\n",
        "print(classes)"
      ]
    },
    {
      "cell_type": "code",
      "source": [
        "class_labels = [\"T-shirt/top\", \"Trouser\", \"Pullover\", \"Dress\", \"Coat\", \"Sandal\", \"Shirt\", \"Sneaker\", \"Bag\", \"Ankle boot\"]\n",
        "predicted_labels = np.array([class_labels[i] for i in classes])\n",
        "\n",
        "# Print the result\n",
        "print(predicted_labels)"
      ],
      "metadata": {
        "colab": {
          "base_uri": "https://localhost:8080/"
        },
        "id": "o8wge-CfOiU1",
        "outputId": "23c7fc72-6046-4bde-e906-b0a072ef6627"
      },
      "execution_count": 18,
      "outputs": [
        {
          "output_type": "stream",
          "name": "stdout",
          "text": [
            "['Ankle boot' 'Pullover' 'Trouser' 'Trouser' 'Shirt' 'Trouser' 'Coat'\n",
            " 'Coat' 'Sandal' 'Sneaker']\n"
          ]
        }
      ]
    }
  ],
  "metadata": {
    "colab": {
      "provenance": [],
      "mount_file_id": "1G3HO6MeniBMyXE9ior4tMqhCiLplO7Ly",
      "authorship_tag": "ABX9TyOjJFbSzLu9MIFDP9Hkp6wb",
      "include_colab_link": true
    },
    "kernelspec": {
      "display_name": "Python 3",
      "name": "python3"
    },
    "language_info": {
      "name": "python"
    }
  },
  "nbformat": 4,
  "nbformat_minor": 0
}